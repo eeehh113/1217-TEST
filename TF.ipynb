{
  "nbformat": 4,
  "nbformat_minor": 0,
  "metadata": {
    "colab": {
      "name": "TF.ipynb",
      "version": "0.3.2",
      "provenance": []
    },
    "kernelspec": {
      "name": "python3",
      "display_name": "Python 3"
    },
    "accelerator": "GPU"
  },
  "cells": [
    {
      "metadata": {
        "id": "r6-64obS0lov",
        "colab_type": "code",
        "colab": {}
      },
      "cell_type": "code",
      "source": [
        "import tensorflow as tf\n",
        "import numpy as np\n",
        "\n",
        "%matplotlib inline\n",
        "import pylab\n"
      ],
      "execution_count": 0,
      "outputs": []
    },
    {
      "metadata": {
        "id": "x9AKqX5w01z4",
        "colab_type": "code",
        "colab": {
          "base_uri": "https://localhost:8080/",
          "height": 282
        },
        "outputId": "84d05f31-9280-4a54-a4e2-4e80d6d4bb2b"
      },
      "cell_type": "code",
      "source": [
        "def hhh(h):\n",
        "    return (500-2*h)*h\n",
        "\n",
        "x_data = np.linspace(-5, 5, 1000)\n",
        "y_data =  hhh(x_data)\n",
        "pylab.plot(x_data, y_data,'.')"
      ],
      "execution_count": 414,
      "outputs": [
        {
          "output_type": "execute_result",
          "data": {
            "text/plain": [
              "[<matplotlib.lines.Line2D at 0x7f63e50aa4e0>]"
            ]
          },
          "metadata": {
            "tags": []
          },
          "execution_count": 414
        },
        {
          "output_type": "display_data",
          "data": {
            "image/png": "[encoded data removed]",
            "text/plain": [
              "<matplotlib.figure.Figure at 0x7f63e5173cf8>"
            ]
          },
          "metadata": {
            "tags": []
          }
        }
      ]
    },
    {
      "metadata": {
        "id": "mVYd_bTW03GH",
        "colab_type": "code",
        "colab": {}
      },
      "cell_type": "code",
      "source": [
        "h = tf.Variable(tf.random_uniform([1],0, 250))\n",
        "VVV = 100000-hhh(h)"
      ],
      "execution_count": 0,
      "outputs": []
    },
    {
      "metadata": {
        "id": "sZLc0FEI2jcF",
        "colab_type": "code",
        "colab": {}
      },
      "cell_type": "code",
      "source": [
        "\n",
        "loss = VVV  # Create an operation that calculates loss.\n",
        "optimizer = tf.train.GradientDescentOptimizer(0.001)  # Create an optimizer.\n",
        "train = optimizer.minimize(loss)  # Create an operation that minimizes loss.\n",
        "init = tf.initialize_all_variables()  # Create an operation initializes all the variables."
      ],
      "execution_count": 0,
      "outputs": []
    },
    {
      "metadata": {
        "id": "8kjM2e-h037H",
        "colab_type": "code",
        "colab": {}
      },
      "cell_type": "code",
      "source": [
        "sess = tf.Session()\n",
        "sess.run(init)"
      ],
      "execution_count": 0,
      "outputs": []
    },
    {
      "metadata": {
        "id": "uLKHdCaP05MI",
        "colab_type": "code",
        "colab": {
          "base_uri": "https://localhost:8080/",
          "height": 357
        },
        "outputId": "96b35d14-cc43-44c6-8f93-6b7363b0beb0"
      },
      "cell_type": "code",
      "source": [
        "for step in range(20):\n",
        "    sess.run(train)\n",
        "    print(sess.run([h]))"
      ],
      "execution_count": 418,
      "outputs": [
        {
          "output_type": "stream",
          "text": [
            "[array([116.53945], dtype=float32)]\n",
            "[array([116.573296], dtype=float32)]\n",
            "[array([116.607], dtype=float32)]\n",
            "[array([116.64057], dtype=float32)]\n",
            "[array([116.67401], dtype=float32)]\n",
            "[array([116.70731], dtype=float32)]\n",
            "[array([116.740486], dtype=float32)]\n",
            "[array([116.77352], dtype=float32)]\n",
            "[array([116.80643], dtype=float32)]\n",
            "[array([116.8392], dtype=float32)]\n",
            "[array([116.87185], dtype=float32)]\n",
            "[array([116.90436], dtype=float32)]\n",
            "[array([116.93674], dtype=float32)]\n",
            "[array([116.96899], dtype=float32)]\n",
            "[array([117.001114], dtype=float32)]\n",
            "[array([117.03311], dtype=float32)]\n",
            "[array([117.06498], dtype=float32)]\n",
            "[array([117.09672], dtype=float32)]\n",
            "[array([117.128334], dtype=float32)]\n",
            "[array([117.15982], dtype=float32)]\n"
          ],
          "name": "stdout"
        }
      ]
    },
    {
      "metadata": {
        "id": "bTMz7r7B7UoX",
        "colab_type": "code",
        "colab": {
          "base_uri": "https://localhost:8080/",
          "height": 51
        },
        "outputId": "bbeb1d4c-7e4a-43a9-da5a-0b846d1c9c96"
      },
      "cell_type": "code",
      "source": [
        "result = sess.run([h])\n",
        "result_h = np.array2string(result[0][0])\n",
        "print(\"h = \"+result_h)\n",
        "print(\"A = \"+str(hhh(result[0][0])))"
      ],
      "execution_count": 419,
      "outputs": [
        {
          "output_type": "stream",
          "text": [
            "h = 117.15982\n",
            "A = 31127.06317259185\n"
          ],
          "name": "stdout"
        }
      ]
    }
  ]
}