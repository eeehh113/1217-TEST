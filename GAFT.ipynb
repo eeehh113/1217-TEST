{
  "nbformat": 4,
  "nbformat_minor": 0,
  "metadata": {
    "colab": {
      "name": "GAFT.ipynb",
      "version": "0.3.2",
      "provenance": []
    },
    "kernelspec": {
      "name": "python3",
      "display_name": "Python 3"
    },
    "accelerator": "GPU"
  },
  "cells": [
    {
      "metadata": {
        "id": "cQnzQb9xy6nc",
        "colab_type": "code",
        "colab": {
          "base_uri": "https://localhost:8080/",
          "height": 85
        },
        "outputId": "9e0f3ff1-66ea-451f-eeb2-0ad23d51292d"
      },
      "cell_type": "code",
      "source": [
        "!pip install GAFT"
      ],
      "execution_count": 2,
      "outputs": [
        {
          "output_type": "stream",
          "text": [
            "Collecting GAFT\n",
            "  Downloading https://files.pythonhosted.org/packages/4a/6f/b53b385957188b880f39359e765bc2ed4c757ee64b2ae5ef5cdca7f87ce8/gaft-0.5.7-py3-none-any.whl\n",
            "Installing collected packages: GAFT\n",
            "Successfully installed GAFT-0.5.7\n"
          ],
          "name": "stdout"
        }
      ]
    },
    {
      "metadata": {
        "id": "hVjRQB0izPeC",
        "colab_type": "code",
        "colab": {
          "base_uri": "https://localhost:8080/",
          "height": 408
        },
        "outputId": "9cd720f8-20dc-4df2-cbe6-1b13e3115313"
      },
      "cell_type": "code",
      "source": [
        "from math import sin, cos, pi\n",
        "\n",
        "from gaft import GAEngine\n",
        "from gaft.components import BinaryIndividual\n",
        "from gaft.components import Population\n",
        "from gaft.operators import TournamentSelection\n",
        "from gaft.operators import UniformCrossover\n",
        "from gaft.operators import FlipBitBigMutation\n",
        "\n",
        "# Built-in best fitness analysis.\n",
        "from gaft.analysis.fitness_store import FitnessStore\n",
        "from gaft.analysis.console_output import ConsoleOutput\n",
        "\n",
        "# Define population.\n",
        "indv_template = BinaryIndividual(ranges=[(0, 250)], eps=0.001)\n",
        "population = Population(indv_template=indv_template, size=50).init()\n",
        "\n",
        "# Create genetic operators.\n",
        "#selection = RouletteWheelSelection()\n",
        "selection = TournamentSelection()\n",
        "crossover = UniformCrossover(pc=0.8, pe=0.5)\n",
        "mutation = FlipBitBigMutation(pm=0.1, pbm=0.55, alpha=0.6)\n",
        "\n",
        "# Create genetic algorithm engine.\n",
        "# Here we pass all built-in analysis to engine constructor.\n",
        "engine = GAEngine(population=population, selection=selection,\n",
        "                  crossover=crossover, mutation=mutation,\n",
        "                  analysis=[ConsoleOutput, FitnessStore])\n",
        "\n",
        "# Define fitness function.\n",
        "@engine.fitness_register\n",
        "def fitness(indv):\n",
        "    h,= indv.solution\n",
        "    return (500-2*h)*h\n",
        "\n",
        "if '__main__' == __name__:\n",
        "    engine.run(ng=20)"
      ],
      "execution_count": 7,
      "outputs": [
        {
          "output_type": "stream",
          "text": [
            "gaft.ConsoleOutput   INFO     Generation number: 20 Population number: 50\n",
            "gaft.ConsoleOutput   INFO     Generation: 1, best fitness: 31248.513, scaled fitness: 31248.513\n",
            "gaft.ConsoleOutput   INFO     Generation: 2, best fitness: 31248.630, scaled fitness: 31248.630\n",
            "gaft.ConsoleOutput   INFO     Generation: 3, best fitness: 31248.630, scaled fitness: 31248.630\n",
            "gaft.ConsoleOutput   INFO     Generation: 4, best fitness: 31248.630, scaled fitness: 31248.630\n",
            "gaft.ConsoleOutput   INFO     Generation: 5, best fitness: 31248.630, scaled fitness: 31248.630\n",
            "gaft.ConsoleOutput   INFO     Generation: 6, best fitness: 31248.630, scaled fitness: 31248.630\n",
            "gaft.ConsoleOutput   INFO     Generation: 7, best fitness: 31248.655, scaled fitness: 31248.655\n",
            "gaft.ConsoleOutput   INFO     Generation: 8, best fitness: 31249.836, scaled fitness: 31249.836\n",
            "gaft.ConsoleOutput   INFO     Generation: 9, best fitness: 31249.836, scaled fitness: 31249.836\n",
            "gaft.ConsoleOutput   INFO     Generation: 10, best fitness: 31249.996, scaled fitness: 31249.996\n",
            "gaft.ConsoleOutput   INFO     Generation: 11, best fitness: 31249.996, scaled fitness: 31249.996\n",
            "gaft.ConsoleOutput   INFO     Generation: 12, best fitness: 31249.996, scaled fitness: 31249.996\n",
            "gaft.ConsoleOutput   INFO     Generation: 13, best fitness: 31249.996, scaled fitness: 31249.996\n",
            "gaft.ConsoleOutput   INFO     Generation: 14, best fitness: 31249.996, scaled fitness: 31249.996\n",
            "gaft.ConsoleOutput   INFO     Generation: 15, best fitness: 31249.996, scaled fitness: 31249.996\n",
            "gaft.ConsoleOutput   INFO     Generation: 16, best fitness: 31249.996, scaled fitness: 31249.996\n",
            "gaft.ConsoleOutput   INFO     Generation: 17, best fitness: 31249.996, scaled fitness: 31249.996\n",
            "gaft.ConsoleOutput   INFO     Generation: 18, best fitness: 31249.996, scaled fitness: 31249.996\n",
            "gaft.ConsoleOutput   INFO     Generation: 19, best fitness: 31249.996, scaled fitness: 31249.996\n",
            "gaft.ConsoleOutput   INFO     Generation: 20, best fitness: 31249.996, scaled fitness: 31249.996\n",
            "gaft.ConsoleOutput   INFO     Optimal solution: ([124.95803833007812], 31249.996478436515)\n",
            "gaft.FitnessStore   INFO     Best fitness values are written to best_fit.py\n"
          ],
          "name": "stdout"
        }
      ]
    }
  ]
}