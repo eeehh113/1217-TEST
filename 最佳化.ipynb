{
  "nbformat": 4,
  "nbformat_minor": 0,
  "metadata": {
    "colab": {
      "name": "最佳化.ipynb",
      "version": "0.3.2",
      "provenance": []
    },
    "kernelspec": {
      "name": "python3",
      "display_name": "Python 3"
    },
    "accelerator": "GPU"
  },
  "cells": [
    {
      "metadata": {
        "id": "qNC0NLpOUOQ5",
        "colab_type": "code",
        "colab": {
          "base_uri": "https://localhost:8080/",
          "height": 302
        },
        "outputId": "29806cd1-9a7d-4622-960d-a39607580122"
      },
      "cell_type": "code",
      "source": [
        "import tensorflow as tf\n",
        "import numpy as np\n",
        "\n",
        "%matplotlib inline\n",
        "import pylab\n",
        "\n",
        "#math function A(y)\n",
        "def func_y(y):\n",
        "  return 500*y-2*y**2\n",
        "#math function x = 500-2y\n",
        "def func_x(y):\n",
        "  return 500-2*y\n",
        "\n",
        "\n",
        "x_data = np.linspace(0, 250, 1000)\n",
        "y_data = func_y(x_data)\n",
        "# Uncomment the following line to plot our input data.\n",
        "pylab.plot(x_data, y_data, '.')\n",
        "pylab.legend()"
      ],
      "execution_count": 19,
      "outputs": [
        {
          "output_type": "stream",
          "text": [
            "No handles with labels found to put in legend.\n"
          ],
          "name": "stderr"
        },
        {
          "output_type": "execute_result",
          "data": {
            "text/plain": [
              "<matplotlib.legend.Legend at 0x7fa90b7dce48>"
            ]
          },
          "metadata": {
            "tags": []
          },
          "execution_count": 19
        },
        {
          "output_type": "display_data",
          "data": {
            "image/png": "[encoded data removed]",
            "text/plain": [
              "<matplotlib.figure.Figure at 0x7fa9204017b8>"
            ]
          },
          "metadata": {
            "tags": []
          }
        }
      ]
    },
    {
      "metadata": {
        "id": "iACmeyn9UUKE",
        "colab_type": "code",
        "colab": {
          "base_uri": "https://localhost:8080/",
          "height": 490
        },
        "outputId": "7e851043-1a0c-454d-d672-079402f1ee3f"
      },
      "cell_type": "code",
      "source": [
        "y = tf.Variable(tf.random_uniform([1], -5,300))\n",
        "\n",
        "\n",
        "func_tf = 1000000-func_y(y)#翻轉圖形,求最小值\n",
        "\n",
        "loss = func_tf \n",
        "optimizer = tf.train.GradientDescentOptimizer(0.01) \n",
        "train = optimizer.minimize(loss)\n",
        "init = tf.initialize_all_variables()\n",
        "\n",
        "print(\"loss:\", loss)\n",
        "print(\"optimizer:\", optimizer)\n",
        "print(\"train:\", train)\n",
        "#print(init)\n",
        "\n",
        "# 1.6 Create a session and launch the graph.\n",
        "sess = tf.Session()\n",
        "sess.run(init)\n",
        "\n",
        "#print(sess.run([h]))\n",
        "\n",
        "print(\"tf運算過程==========\")\n",
        "for step in range(160):\n",
        "    sess.run(train)\n",
        "    if step % 10 == 0 :#每學習20次顯示一次\n",
        "      print(sess.run([y]))\n",
        "    \n",
        "print(\"\\n帶入面積結果==========\")\n",
        "\n",
        "\n",
        "print(\"A = \"+str(func_y(result[0][0])))#show A"
      ],
      "execution_count": 20,
      "outputs": [
        {
          "output_type": "stream",
          "text": [
            "loss: Tensor(\"sub_29:0\", shape=(1,), dtype=float32)\n",
            "optimizer: <tensorflow.python.training.gradient_descent.GradientDescentOptimizer object at 0x7fa90b6e35c0>\n",
            "train: name: \"GradientDescent_14\"\n",
            "op: \"NoOp\"\n",
            "input: \"^GradientDescent_14/update_Variable_14/ApplyGradientDescent\"\n",
            "\n",
            "tf運算過程==========\n",
            "[array([205.37782], dtype=float32)]\n",
            "[array([178.4378], dtype=float32)]\n",
            "[array([160.52719], dtype=float32)]\n",
            "[array([148.61963], dtype=float32)]\n",
            "[array([140.7031], dtype=float32)]\n",
            "[array([135.43993], dtype=float32)]\n",
            "[array([131.9408], dtype=float32)]\n",
            "[array([129.61446], dtype=float32)]\n",
            "[array([128.06784], dtype=float32)]\n",
            "[array([127.039604], dtype=float32)]\n",
            "[array([126.355995], dtype=float32)]\n",
            "[array([125.90151], dtype=float32)]\n",
            "[array([125.59935], dtype=float32)]\n",
            "[array([125.39847], dtype=float32)]\n",
            "[array([125.26492], dtype=float32)]\n",
            "[array([125.176125], dtype=float32)]\n",
            "\n",
            "帶入面積結果==========\n",
            "A = 31249.970860774512\n"
          ],
          "name": "stdout"
        }
      ]
    }
  ]
}